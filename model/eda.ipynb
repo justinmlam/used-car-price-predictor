{
 "cells": [
  {
   "cell_type": "code",
   "execution_count": 136,
   "metadata": {},
   "outputs": [],
   "source": [
    "import numpy as np\n",
    "import pandas as pd\n",
    "import seaborn as sns\n",
    "import matplotlib.pyplot as plt\n",
    "\n",
    "import os"
   ]
  },
  {
   "cell_type": "markdown",
   "metadata": {},
   "source": [
    "# Read in Data"
   ]
  },
  {
   "cell_type": "code",
   "execution_count": 137,
   "metadata": {},
   "outputs": [],
   "source": [
    "data_dir = r'../data/'\n",
    "\n",
    "data = pd.DataFrame()\n",
    "\n",
    "for entry in os.scandir(data_dir):\n",
    "    if (entry.path.endswith('.json') and entry.is_file()):\n",
    "        if data.empty:\n",
    "            data = pd.read_json(entry.path)\n",
    "        else:\n",
    "            entry_data = pd.read_json(entry.path)\n",
    "            data = pd.concat([data, entry_data], ignore_index=True)"
   ]
  },
  {
   "cell_type": "markdown",
   "metadata": {},
   "source": [
    "# Data Clean-up"
   ]
  },
  {
   "cell_type": "code",
   "execution_count": 138,
   "metadata": {},
   "outputs": [
    {
     "data": {
      "text/plain": [
       "(2598, 12)"
      ]
     },
     "execution_count": 138,
     "metadata": {},
     "output_type": "execute_result"
    }
   ],
   "source": [
    "# Remove duplicates\n",
    "data.drop_duplicates(subset =\"post_id\", \n",
    "                     keep = \"last\", inplace = True)\n",
    "\n",
    "# Things deemed not important:\n",
    "# fuel, VIN, drive, size, type\n",
    "data.drop(['cylinders', 'VIN', 'drive', 'size', 'type'], axis=1, inplace=True)\n",
    "\n",
    "data.shape"
   ]
  },
  {
   "cell_type": "markdown",
   "metadata": {},
   "source": [
    "### Why did I drop ['cylinders', 'VIN', 'drive', 'size', 'type']?"
   ]
  },
  {
   "cell_type": "code",
   "execution_count": 139,
   "metadata": {},
   "outputs": [
    {
     "data": {
      "text/plain": [
       "post_id          0.000000\n",
       "brand            6.081601\n",
       "url              0.000000\n",
       "price            0.000000\n",
       "year             0.000000\n",
       "model            0.000000\n",
       "condition       23.633564\n",
       "fuel             0.000000\n",
       "odometer        22.093918\n",
       "title status     0.000000\n",
       "transmission     0.000000\n",
       "paint color     33.756736\n",
       "dtype: float64"
      ]
     },
     "execution_count": 139,
     "metadata": {},
     "output_type": "execute_result"
    }
   ],
   "source": [
    "# Things deemed not important:\n",
    "# cylinders, fuel, VIN, drive, size, type\n",
    "# These categories generally stay the same within the same model.\n",
    "# Rarely will you see different values within the same model, but when you do,\n",
    "# there is but a small change in price. We want to focus on the most important\n",
    "# factors, rather than the miniscule.\n",
    "# VIN is unique to every vehicle.\n",
    "\n",
    "# To add onto that, see the data below of missing values.\n",
    "# Above 25% missing: Cylinders, VIN, drive, size, type, paint color\n",
    "# For cylinders, VIN, drive, size and type, we will remove the columns as a whole. These aren't important\n",
    "# in the grand scheme of things, because when a vehicle is searched, it's assumed these are constant for that model \n",
    "# (except VIN).\n",
    "\n",
    "# Check NA (percentage missing):\n",
    "data.isnull().sum() *100 / len(data)"
   ]
  },
  {
   "cell_type": "code",
   "execution_count": 140,
   "metadata": {},
   "outputs": [
    {
     "name": "stderr",
     "output_type": "stream",
     "text": [
      "C:\\Users\\justi\\anaconda3\\lib\\site-packages\\ipykernel_launcher.py:24: UserWarning: Boolean Series key will be reindexed to match DataFrame index.\n"
     ]
    },
    {
     "data": {
      "text/plain": [
       "(2596, 12)"
      ]
     },
     "execution_count": 140,
     "metadata": {},
     "output_type": "execute_result"
    }
   ],
   "source": [
    "# Problems to deal with:\n",
    "\n",
    "#-----------------------------------------------\n",
    "\n",
    "# What should we do about the rest of our missing data?\n",
    "# Well, if we drop all na, then we are left with about only half of the data. \n",
    "# That won't be good.\n",
    "data.dropna().shape\n",
    "\n",
    "#-----------------------------------------------\n",
    "\n",
    "# people love to put the odometer, in kms, instead of a full amount. (eg if it's at 150,000 kms, they just put 150)\n",
    "\n",
    "data[data['odometer'] == 200.0]\n",
    "# you can see that these vehicles are all older, and are definitely not only 200 kms driven.\n",
    "# 200,000 sounds about right.\n",
    "data['odometer'] = np.where((data['odometer'] < 1000.0) & (data['year'] < 2018),\n",
    "                           data['odometer'] * 1000,\n",
    "                           data['odometer'])\n",
    "# If you run a quick \"data[data['odometer'] < 1000]\", everything looks about right.\n",
    "\n",
    "\n",
    "# Remove all vehicles with odometer = 0 and year <= 2018.\n",
    "data.drop(data[data['odometer'] == False][data['year'] <= 2018].index, inplace=True)\n",
    "# Odometer is a critical part in deciding the price of a vehicle.\n",
    "# In data size, we aren't missing out on much if we just remove these entries.\n",
    "# As I am writing this, out of 2598 entries, only 1 satisfies this.\n",
    "\n",
    "# There's a specific bmw salesman who likes to post ads with an odometer of 1, regardless of actual odometer.\n",
    "# This really messes with the data.\n",
    "# Let's remove their entries. They're not that many.\n",
    "# Ads with a \"1\" odometer don't really mean it has 1 km on it, either.\n",
    "data.drop(data[data['odometer'] == 1].index, inplace=True)\n",
    "\n",
    "\n",
    "\n",
    "\n",
    "data.shape\n",
    "\n",
    "#-----------------------------------------------"
   ]
  },
  {
   "cell_type": "code",
   "execution_count": 145,
   "metadata": {},
   "outputs": [
    {
     "data": {
      "text/html": [
       "<div>\n",
       "<style scoped>\n",
       "    .dataframe tbody tr th:only-of-type {\n",
       "        vertical-align: middle;\n",
       "    }\n",
       "\n",
       "    .dataframe tbody tr th {\n",
       "        vertical-align: top;\n",
       "    }\n",
       "\n",
       "    .dataframe thead th {\n",
       "        text-align: right;\n",
       "    }\n",
       "</style>\n",
       "<table border=\"1\" class=\"dataframe\">\n",
       "  <thead>\n",
       "    <tr style=\"text-align: right;\">\n",
       "      <th></th>\n",
       "      <th>post_id</th>\n",
       "      <th>brand</th>\n",
       "      <th>url</th>\n",
       "      <th>price</th>\n",
       "      <th>year</th>\n",
       "      <th>model</th>\n",
       "      <th>condition</th>\n",
       "      <th>fuel</th>\n",
       "      <th>odometer</th>\n",
       "      <th>title status</th>\n",
       "      <th>transmission</th>\n",
       "      <th>paint color</th>\n",
       "    </tr>\n",
       "  </thead>\n",
       "  <tbody>\n",
       "    <tr>\n",
       "      <th>0</th>\n",
       "      <td>7126452793</td>\n",
       "      <td>nissan</td>\n",
       "      <td>https://vancouver.craigslist.org/van/ctd/d/ric...</td>\n",
       "      <td>25888</td>\n",
       "      <td>2019</td>\n",
       "      <td>rogue</td>\n",
       "      <td>excellent</td>\n",
       "      <td>gas</td>\n",
       "      <td>30128.0</td>\n",
       "      <td>clean</td>\n",
       "      <td>automatic</td>\n",
       "      <td>grey</td>\n",
       "    </tr>\n",
       "    <tr>\n",
       "      <th>1</th>\n",
       "      <td>7126422024</td>\n",
       "      <td>mazda</td>\n",
       "      <td>https://vancouver.craigslist.org/nvn/cto/d/nor...</td>\n",
       "      <td>2200</td>\n",
       "      <td>2007</td>\n",
       "      <td>3</td>\n",
       "      <td>good</td>\n",
       "      <td>gas</td>\n",
       "      <td>220337.0</td>\n",
       "      <td>clean</td>\n",
       "      <td>manual</td>\n",
       "      <td>black</td>\n",
       "    </tr>\n",
       "    <tr>\n",
       "      <th>2</th>\n",
       "      <td>7126435776</td>\n",
       "      <td>ford</td>\n",
       "      <td>https://vancouver.craigslist.org/nvn/cto/d/nor...</td>\n",
       "      <td>60000</td>\n",
       "      <td>1957</td>\n",
       "      <td>thunderbird</td>\n",
       "      <td>like new</td>\n",
       "      <td>gas</td>\n",
       "      <td>39000.0</td>\n",
       "      <td>clean</td>\n",
       "      <td>automatic</td>\n",
       "      <td>None</td>\n",
       "    </tr>\n",
       "    <tr>\n",
       "      <th>3</th>\n",
       "      <td>7126456880</td>\n",
       "      <td>audi</td>\n",
       "      <td>https://vancouver.craigslist.org/van/ctd/d/van...</td>\n",
       "      <td>16980</td>\n",
       "      <td>2012</td>\n",
       "      <td>a3</td>\n",
       "      <td>excellent</td>\n",
       "      <td>diesel</td>\n",
       "      <td>57350.0</td>\n",
       "      <td>clean</td>\n",
       "      <td>automatic</td>\n",
       "      <td>silver</td>\n",
       "    </tr>\n",
       "    <tr>\n",
       "      <th>4</th>\n",
       "      <td>7126461218</td>\n",
       "      <td>bmw</td>\n",
       "      <td>https://vancouver.craigslist.org/van/ctd/d/200...</td>\n",
       "      <td>13980</td>\n",
       "      <td>2008</td>\n",
       "      <td>x3</td>\n",
       "      <td>excellent</td>\n",
       "      <td>gas</td>\n",
       "      <td>61500.0</td>\n",
       "      <td>clean</td>\n",
       "      <td>automatic</td>\n",
       "      <td>None</td>\n",
       "    </tr>\n",
       "    <tr>\n",
       "      <th>...</th>\n",
       "      <td>...</td>\n",
       "      <td>...</td>\n",
       "      <td>...</td>\n",
       "      <td>...</td>\n",
       "      <td>...</td>\n",
       "      <td>...</td>\n",
       "      <td>...</td>\n",
       "      <td>...</td>\n",
       "      <td>...</td>\n",
       "      <td>...</td>\n",
       "      <td>...</td>\n",
       "      <td>...</td>\n",
       "    </tr>\n",
       "    <tr>\n",
       "      <th>3855</th>\n",
       "      <td>7133087485</td>\n",
       "      <td>nissan</td>\n",
       "      <td>https://vancouver.craigslist.org/van/ctd/d/sur...</td>\n",
       "      <td>14888</td>\n",
       "      <td>2015</td>\n",
       "      <td>rogue</td>\n",
       "      <td>excellent</td>\n",
       "      <td>gas</td>\n",
       "      <td>95260.0</td>\n",
       "      <td>clean</td>\n",
       "      <td>automatic</td>\n",
       "      <td>white</td>\n",
       "    </tr>\n",
       "    <tr>\n",
       "      <th>3856</th>\n",
       "      <td>7133082810</td>\n",
       "      <td>chevrolet</td>\n",
       "      <td>https://vancouver.craigslist.org/rds/ctd/d/sur...</td>\n",
       "      <td>26899</td>\n",
       "      <td>2011</td>\n",
       "      <td>silverado duramax hd</td>\n",
       "      <td>None</td>\n",
       "      <td>diesel</td>\n",
       "      <td>233350.0</td>\n",
       "      <td>clean</td>\n",
       "      <td>automatic</td>\n",
       "      <td>None</td>\n",
       "    </tr>\n",
       "    <tr>\n",
       "      <th>3857</th>\n",
       "      <td>7133081855</td>\n",
       "      <td>ram</td>\n",
       "      <td>https://vancouver.craigslist.org/rds/ctd/d/lan...</td>\n",
       "      <td>28850</td>\n",
       "      <td>2017</td>\n",
       "      <td>1500</td>\n",
       "      <td>None</td>\n",
       "      <td>gas</td>\n",
       "      <td>64000.0</td>\n",
       "      <td>clean</td>\n",
       "      <td>automatic</td>\n",
       "      <td>None</td>\n",
       "    </tr>\n",
       "    <tr>\n",
       "      <th>3858</th>\n",
       "      <td>7133082863</td>\n",
       "      <td>bmw</td>\n",
       "      <td>https://vancouver.craigslist.org/van/ctd/d/bur...</td>\n",
       "      <td>20500</td>\n",
       "      <td>2016</td>\n",
       "      <td>328i xdrive</td>\n",
       "      <td>None</td>\n",
       "      <td>gas</td>\n",
       "      <td>NaN</td>\n",
       "      <td>clean</td>\n",
       "      <td>automatic</td>\n",
       "      <td>None</td>\n",
       "    </tr>\n",
       "    <tr>\n",
       "      <th>3859</th>\n",
       "      <td>7127345903</td>\n",
       "      <td>lexus</td>\n",
       "      <td>https://vancouver.craigslist.org/van/cto/d/van...</td>\n",
       "      <td>26000</td>\n",
       "      <td>2014</td>\n",
       "      <td>is 250 fsport</td>\n",
       "      <td>like new</td>\n",
       "      <td>gas</td>\n",
       "      <td>NaN</td>\n",
       "      <td>clean</td>\n",
       "      <td>automatic</td>\n",
       "      <td>None</td>\n",
       "    </tr>\n",
       "  </tbody>\n",
       "</table>\n",
       "<p>2596 rows × 12 columns</p>\n",
       "</div>"
      ],
      "text/plain": [
       "         post_id      brand  \\\n",
       "0     7126452793     nissan   \n",
       "1     7126422024      mazda   \n",
       "2     7126435776       ford   \n",
       "3     7126456880       audi   \n",
       "4     7126461218        bmw   \n",
       "...          ...        ...   \n",
       "3855  7133087485     nissan   \n",
       "3856  7133082810  chevrolet   \n",
       "3857  7133081855        ram   \n",
       "3858  7133082863        bmw   \n",
       "3859  7127345903      lexus   \n",
       "\n",
       "                                                    url  price  year  \\\n",
       "0     https://vancouver.craigslist.org/van/ctd/d/ric...  25888  2019   \n",
       "1     https://vancouver.craigslist.org/nvn/cto/d/nor...   2200  2007   \n",
       "2     https://vancouver.craigslist.org/nvn/cto/d/nor...  60000  1957   \n",
       "3     https://vancouver.craigslist.org/van/ctd/d/van...  16980  2012   \n",
       "4     https://vancouver.craigslist.org/van/ctd/d/200...  13980  2008   \n",
       "...                                                 ...    ...   ...   \n",
       "3855  https://vancouver.craigslist.org/van/ctd/d/sur...  14888  2015   \n",
       "3856  https://vancouver.craigslist.org/rds/ctd/d/sur...  26899  2011   \n",
       "3857  https://vancouver.craigslist.org/rds/ctd/d/lan...  28850  2017   \n",
       "3858  https://vancouver.craigslist.org/van/ctd/d/bur...  20500  2016   \n",
       "3859  https://vancouver.craigslist.org/van/cto/d/van...  26000  2014   \n",
       "\n",
       "                     model  condition    fuel  odometer title status  \\\n",
       "0                    rogue  excellent     gas   30128.0        clean   \n",
       "1                        3       good     gas  220337.0        clean   \n",
       "2              thunderbird   like new     gas   39000.0        clean   \n",
       "3                       a3  excellent  diesel   57350.0        clean   \n",
       "4                       x3  excellent     gas   61500.0        clean   \n",
       "...                    ...        ...     ...       ...          ...   \n",
       "3855                 rogue  excellent     gas   95260.0        clean   \n",
       "3856  silverado duramax hd       None  diesel  233350.0        clean   \n",
       "3857                  1500       None     gas   64000.0        clean   \n",
       "3858           328i xdrive       None     gas       NaN        clean   \n",
       "3859         is 250 fsport   like new     gas       NaN        clean   \n",
       "\n",
       "     transmission paint color  \n",
       "0       automatic        grey  \n",
       "1          manual       black  \n",
       "2       automatic        None  \n",
       "3       automatic      silver  \n",
       "4       automatic        None  \n",
       "...           ...         ...  \n",
       "3855    automatic       white  \n",
       "3856    automatic        None  \n",
       "3857    automatic        None  \n",
       "3858    automatic        None  \n",
       "3859    automatic        None  \n",
       "\n",
       "[2596 rows x 12 columns]"
      ]
     },
     "execution_count": 145,
     "metadata": {},
     "output_type": "execute_result"
    }
   ],
   "source": [
    "data"
   ]
  },
  {
   "cell_type": "markdown",
   "metadata": {},
   "source": [
    "# Plot and Visualize"
   ]
  },
  {
   "cell_type": "code",
   "execution_count": 141,
   "metadata": {
    "scrolled": false
   },
   "outputs": [
    {
     "data": {
      "text/plain": [
       "Text(0.5, 0, 'count')"
      ]
     },
     "execution_count": 141,
     "metadata": {},
     "output_type": "execute_result"
    },
    {
     "data": {
      "image/png": "[encoded data removed]",
      "text/plain": [
       "<Figure size 1800x1152 with 2 Axes>"
      ]
     },
     "metadata": {
      "needs_background": "light"
     },
     "output_type": "display_data"
    }
   ],
   "source": [
    "fig, axes = plt.subplots(1,2,figsize=(25,16))\n",
    "\n",
    "(sns.barplot(y=data.brand.value_counts().index, x=data.brand.value_counts(), orient='h',ax=axes[0])\n",
    " .set_title('Brand by Count',fontsize=25))\n",
    "axes[0].set_ylabel('brand')\n",
    "axes[0].set_xlabel('count')\n",
    "(sns.barplot(y=data.year.value_counts().index, x=data.year.value_counts(), orient='h',ax=axes[1])\n",
    " .set_title('Year by Count',fontsize=25))\n",
    "axes[1].set_ylabel('year')\n",
    "axes[1].set_xlabel('count')"
   ]
  },
  {
   "cell_type": "code",
   "execution_count": null,
   "metadata": {},
   "outputs": [],
   "source": []
  }
 ],
 "metadata": {
  "kernelspec": {
   "display_name": "Python 3",
   "language": "python",
   "name": "python3"
  },
  "language_info": {
   "codemirror_mode": {
    "name": "ipython",
    "version": 3
   },
   "file_extension": ".py",
   "mimetype": "text/x-python",
   "name": "python",
   "nbconvert_exporter": "python",
   "pygments_lexer": "ipython3",
   "version": "3.7.6"
  }
 },
 "nbformat": 4,
 "nbformat_minor": 4
}
