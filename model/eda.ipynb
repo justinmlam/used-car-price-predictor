{
 "cells": [
  {
   "cell_type": "code",
   "execution_count": 13,
   "metadata": {},
   "outputs": [],
   "source": [
    "import numpy as np\n",
    "import pandas as pd\n",
    "import seaborn as sns\n",
    "import matplotlib.pyplot as plt\n",
    "\n",
    "import os"
   ]
  },
  {
   "cell_type": "code",
   "execution_count": 14,
   "metadata": {},
   "outputs": [],
   "source": [
    "data_dir = r'../data/'\n",
    "\n",
    "data = pd.DataFrame()\n",
    "\n",
    "for entry in os.scandir(data_dir):\n",
    "    if (entry.path.endswith('.json') and entry.is_file()):\n",
    "        if data.empty:\n",
    "            data = pd.read_json(entry.path)\n",
    "        else:\n",
    "            entry_data = pd.read_json(entry.path)\n",
    "            data = pd.concat([data, entry_data], ignore_index=True)"
   ]
  },
  {
   "cell_type": "code",
   "execution_count": 17,
   "metadata": {},
   "outputs": [
    {
     "name": "stdout",
     "output_type": "stream",
     "text": [
      "(2998, 17)\n",
      "(2094, 17)\n",
      "      post_id   brand                                                url  \\\n",
      "0  7126452793  nissan  https://vancouver.craigslist.org/van/ctd/d/ric...   \n",
      "1  7126422024   mazda  https://vancouver.craigslist.org/nvn/cto/d/nor...   \n",
      "2  7126435776    ford  https://vancouver.craigslist.org/nvn/cto/d/nor...   \n",
      "3  7126456880    audi  https://vancouver.craigslist.org/van/ctd/d/van...   \n",
      "4  7126461218     bmw  https://vancouver.craigslist.org/van/ctd/d/200...   \n",
      "\n",
      "   price  year        model  condition    cylinders    fuel  odometer  \\\n",
      "0  25888  2019        rogue  excellent  4 cylinders     gas   30128.0   \n",
      "1   2200  2007            3       good         None     gas  220337.0   \n",
      "2  60000  1957  thunderbird   like new  8 cylinders     gas   39000.0   \n",
      "3  16980  2012           a3  excellent  4 cylinders  diesel   57350.0   \n",
      "4  13980  2008           x3  excellent  6 cylinders     gas   61500.0   \n",
      "\n",
      "  title status transmission                VIN drive  size   type paint color  \n",
      "0        clean    automatic  5N1AT2MV4KC805476   4wd  None   None        grey  \n",
      "1        clean       manual               None   4wd  None  sedan       black  \n",
      "2        clean    automatic               None   rwd  None   None        None  \n",
      "3        clean    automatic               None   fwd  None   None      silver  \n",
      "4        clean    automatic               None   4wd  None    SUV        None  \n"
     ]
    }
   ],
   "source": [
    "# Let's remove duplicates and show the data.\n",
    "print(data.shape)\n",
    "data.drop_duplicates(subset =\"post_id\", \n",
    "                     keep = \"last\", inplace = True)\n",
    "\n",
    "print(data.shape)\n",
    "print(data.head())"
   ]
  },
  {
   "cell_type": "code",
   "execution_count": 4,
   "metadata": {},
   "outputs": [
    {
     "data": {
      "text/plain": [
       "post_id          0.000000\n",
       "brand            6.604403\n",
       "url              0.000000\n",
       "price            0.000000\n",
       "year             0.000000\n",
       "model            0.000000\n",
       "condition       22.615077\n",
       "cylinders       30.020013\n",
       "fuel             0.000000\n",
       "odometer        21.647765\n",
       "title status     0.000000\n",
       "transmission     0.000000\n",
       "VIN             79.719813\n",
       "drive           32.088059\n",
       "size            58.205470\n",
       "type            34.156104\n",
       "paint color     32.321548\n",
       "dtype: float64"
      ]
     },
     "execution_count": 4,
     "metadata": {},
     "output_type": "execute_result"
    }
   ],
   "source": [
    "# Things deemed not important:\n",
    "# fuel, VIN, drive, size, type\n",
    "\n",
    "# Check NA (percentage missing):\n",
    "data.isnull().sum() *100 / len(data)"
   ]
  },
  {
   "cell_type": "code",
   "execution_count": 6,
   "metadata": {},
   "outputs": [],
   "source": [
    "# Above 25% missing:\n",
    "# Cylinders, VIN, drive, size, type, paint color\n",
    "# For cylinders, VIN, drive, size and type, we will remove the columns as a whole. These aren't important\n",
    "# in the grand scheme of things, because when a vehicle is searched, it's assumed these are constant for that model \n",
    "# (except VIN).\n",
    "\n",
    "data.drop(['cylinders', 'VIN', 'drive', 'size', 'type'], axis=1, inplace=True)"
   ]
  },
  {
   "cell_type": "code",
   "execution_count": 7,
   "metadata": {},
   "outputs": [
    {
     "name": "stdout",
     "output_type": "stream",
     "text": [
      "post_id          0.000000\n",
      "brand            6.604403\n",
      "url              0.000000\n",
      "price            0.000000\n",
      "year             0.000000\n",
      "model            0.000000\n",
      "condition       22.615077\n",
      "fuel             0.000000\n",
      "odometer        21.647765\n",
      "title status     0.000000\n",
      "transmission     0.000000\n",
      "paint color     32.321548\n",
      "dtype: float64\n"
     ]
    },
    {
     "data": {
      "text/html": [
       "<div>\n",
       "<style scoped>\n",
       "    .dataframe tbody tr th:only-of-type {\n",
       "        vertical-align: middle;\n",
       "    }\n",
       "\n",
       "    .dataframe tbody tr th {\n",
       "        vertical-align: top;\n",
       "    }\n",
       "\n",
       "    .dataframe thead th {\n",
       "        text-align: right;\n",
       "    }\n",
       "</style>\n",
       "<table border=\"1\" class=\"dataframe\">\n",
       "  <thead>\n",
       "    <tr style=\"text-align: right;\">\n",
       "      <th></th>\n",
       "      <th>post_id</th>\n",
       "      <th>brand</th>\n",
       "      <th>url</th>\n",
       "      <th>price</th>\n",
       "      <th>year</th>\n",
       "      <th>model</th>\n",
       "      <th>condition</th>\n",
       "      <th>fuel</th>\n",
       "      <th>odometer</th>\n",
       "      <th>title status</th>\n",
       "      <th>transmission</th>\n",
       "      <th>paint color</th>\n",
       "    </tr>\n",
       "  </thead>\n",
       "  <tbody>\n",
       "    <tr>\n",
       "      <th>0</th>\n",
       "      <td>7126452793</td>\n",
       "      <td>nissan</td>\n",
       "      <td>https://vancouver.craigslist.org/van/ctd/d/ric...</td>\n",
       "      <td>25888</td>\n",
       "      <td>2019</td>\n",
       "      <td>rogue</td>\n",
       "      <td>excellent</td>\n",
       "      <td>gas</td>\n",
       "      <td>30128.0</td>\n",
       "      <td>clean</td>\n",
       "      <td>automatic</td>\n",
       "      <td>grey</td>\n",
       "    </tr>\n",
       "    <tr>\n",
       "      <th>1</th>\n",
       "      <td>7126422024</td>\n",
       "      <td>mazda</td>\n",
       "      <td>https://vancouver.craigslist.org/nvn/cto/d/nor...</td>\n",
       "      <td>2200</td>\n",
       "      <td>2007</td>\n",
       "      <td>3</td>\n",
       "      <td>good</td>\n",
       "      <td>gas</td>\n",
       "      <td>220337.0</td>\n",
       "      <td>clean</td>\n",
       "      <td>manual</td>\n",
       "      <td>black</td>\n",
       "    </tr>\n",
       "    <tr>\n",
       "      <th>2</th>\n",
       "      <td>7126435776</td>\n",
       "      <td>ford</td>\n",
       "      <td>https://vancouver.craigslist.org/nvn/cto/d/nor...</td>\n",
       "      <td>60000</td>\n",
       "      <td>1957</td>\n",
       "      <td>thunderbird</td>\n",
       "      <td>like new</td>\n",
       "      <td>gas</td>\n",
       "      <td>39000.0</td>\n",
       "      <td>clean</td>\n",
       "      <td>automatic</td>\n",
       "      <td>None</td>\n",
       "    </tr>\n",
       "    <tr>\n",
       "      <th>3</th>\n",
       "      <td>7126456880</td>\n",
       "      <td>audi</td>\n",
       "      <td>https://vancouver.craigslist.org/van/ctd/d/van...</td>\n",
       "      <td>16980</td>\n",
       "      <td>2012</td>\n",
       "      <td>a3</td>\n",
       "      <td>excellent</td>\n",
       "      <td>diesel</td>\n",
       "      <td>57350.0</td>\n",
       "      <td>clean</td>\n",
       "      <td>automatic</td>\n",
       "      <td>silver</td>\n",
       "    </tr>\n",
       "    <tr>\n",
       "      <th>4</th>\n",
       "      <td>7126461218</td>\n",
       "      <td>bmw</td>\n",
       "      <td>https://vancouver.craigslist.org/van/ctd/d/200...</td>\n",
       "      <td>13980</td>\n",
       "      <td>2008</td>\n",
       "      <td>x3</td>\n",
       "      <td>excellent</td>\n",
       "      <td>gas</td>\n",
       "      <td>61500.0</td>\n",
       "      <td>clean</td>\n",
       "      <td>automatic</td>\n",
       "      <td>None</td>\n",
       "    </tr>\n",
       "  </tbody>\n",
       "</table>\n",
       "</div>"
      ],
      "text/plain": [
       "      post_id   brand                                                url  \\\n",
       "0  7126452793  nissan  https://vancouver.craigslist.org/van/ctd/d/ric...   \n",
       "1  7126422024   mazda  https://vancouver.craigslist.org/nvn/cto/d/nor...   \n",
       "2  7126435776    ford  https://vancouver.craigslist.org/nvn/cto/d/nor...   \n",
       "3  7126456880    audi  https://vancouver.craigslist.org/van/ctd/d/van...   \n",
       "4  7126461218     bmw  https://vancouver.craigslist.org/van/ctd/d/200...   \n",
       "\n",
       "   price  year        model  condition    fuel  odometer title status  \\\n",
       "0  25888  2019        rogue  excellent     gas   30128.0        clean   \n",
       "1   2200  2007            3       good     gas  220337.0        clean   \n",
       "2  60000  1957  thunderbird   like new     gas   39000.0        clean   \n",
       "3  16980  2012           a3  excellent  diesel   57350.0        clean   \n",
       "4  13980  2008           x3  excellent     gas   61500.0        clean   \n",
       "\n",
       "  transmission paint color  \n",
       "0    automatic        grey  \n",
       "1       manual       black  \n",
       "2    automatic        None  \n",
       "3    automatic      silver  \n",
       "4    automatic        None  "
      ]
     },
     "execution_count": 7,
     "metadata": {},
     "output_type": "execute_result"
    }
   ],
   "source": [
    "print(data.isnull().sum() *100 / len(data))\n",
    "data.head(5)"
   ]
  },
  {
   "cell_type": "code",
   "execution_count": 8,
   "metadata": {},
   "outputs": [],
   "source": [
    "# That looks better.\n",
    "\n",
    "# What should we do about our missing data?\n",
    "# Well, if we drop all na, then we are left with about only half of the data. \n",
    "# That won't be good."
   ]
  },
  {
   "cell_type": "code",
   "execution_count": 9,
   "metadata": {},
   "outputs": [
    {
     "data": {
      "text/plain": [
       "(1603, 12)"
      ]
     },
     "execution_count": 9,
     "metadata": {},
     "output_type": "execute_result"
    }
   ],
   "source": [
    "data.dropna().shape"
   ]
  },
  {
   "cell_type": "code",
   "execution_count": 10,
   "metadata": {
    "scrolled": false
   },
   "outputs": [],
   "source": [
    "# a problem to deal with:\n",
    "# people love to put the odometer, in kms, instead of a full amount. (eg if it's at 150,000 kms, they just put 150)\n",
    "# an idea: if year < 2015 and odometer < 400, multiply odometer by 1,000? \n",
    "# people will typically round the odometer to the thousandth, so i feel this would not be a bad idea.\n",
    "# will put more thought into it."
   ]
  },
  {
   "cell_type": "code",
   "execution_count": 11,
   "metadata": {},
   "outputs": [
    {
     "data": {
      "text/html": [
       "<div>\n",
       "<style scoped>\n",
       "    .dataframe tbody tr th:only-of-type {\n",
       "        vertical-align: middle;\n",
       "    }\n",
       "\n",
       "    .dataframe tbody tr th {\n",
       "        vertical-align: top;\n",
       "    }\n",
       "\n",
       "    .dataframe thead th {\n",
       "        text-align: right;\n",
       "    }\n",
       "</style>\n",
       "<table border=\"1\" class=\"dataframe\">\n",
       "  <thead>\n",
       "    <tr style=\"text-align: right;\">\n",
       "      <th></th>\n",
       "      <th>post_id</th>\n",
       "      <th>brand</th>\n",
       "      <th>url</th>\n",
       "      <th>price</th>\n",
       "      <th>year</th>\n",
       "      <th>model</th>\n",
       "      <th>condition</th>\n",
       "      <th>fuel</th>\n",
       "      <th>odometer</th>\n",
       "      <th>title status</th>\n",
       "      <th>transmission</th>\n",
       "      <th>paint color</th>\n",
       "    </tr>\n",
       "  </thead>\n",
       "  <tbody>\n",
       "    <tr>\n",
       "      <th>276</th>\n",
       "      <td>7127105161</td>\n",
       "      <td>chevrolet</td>\n",
       "      <td>https://vancouver.craigslist.org/bnc/cto/d/new...</td>\n",
       "      <td>1400</td>\n",
       "      <td>2002</td>\n",
       "      <td>impala</td>\n",
       "      <td>good</td>\n",
       "      <td>gas</td>\n",
       "      <td>200.0</td>\n",
       "      <td>clean</td>\n",
       "      <td>automatic</td>\n",
       "      <td>grey</td>\n",
       "    </tr>\n",
       "    <tr>\n",
       "      <th>1159</th>\n",
       "      <td>7128372979</td>\n",
       "      <td>toyota</td>\n",
       "      <td>https://vancouver.craigslist.org/van/cto/d/sur...</td>\n",
       "      <td>7500</td>\n",
       "      <td>2011</td>\n",
       "      <td>2011 sienna</td>\n",
       "      <td>excellent</td>\n",
       "      <td>gas</td>\n",
       "      <td>200.0</td>\n",
       "      <td>rebuilt</td>\n",
       "      <td>automatic</td>\n",
       "      <td>black</td>\n",
       "    </tr>\n",
       "    <tr>\n",
       "      <th>1212</th>\n",
       "      <td>7128372979</td>\n",
       "      <td>toyota</td>\n",
       "      <td>https://vancouver.craigslist.org/van/cto/d/sur...</td>\n",
       "      <td>7500</td>\n",
       "      <td>2011</td>\n",
       "      <td>2011 sienna</td>\n",
       "      <td>excellent</td>\n",
       "      <td>gas</td>\n",
       "      <td>200.0</td>\n",
       "      <td>rebuilt</td>\n",
       "      <td>automatic</td>\n",
       "      <td>black</td>\n",
       "    </tr>\n",
       "    <tr>\n",
       "      <th>1239</th>\n",
       "      <td>7128351236</td>\n",
       "      <td>acura</td>\n",
       "      <td>https://vancouver.craigslist.org/rch/cto/d/ric...</td>\n",
       "      <td>5500</td>\n",
       "      <td>2005</td>\n",
       "      <td>mdx awd</td>\n",
       "      <td>good</td>\n",
       "      <td>gas</td>\n",
       "      <td>200.0</td>\n",
       "      <td>clean</td>\n",
       "      <td>automatic</td>\n",
       "      <td>grey</td>\n",
       "    </tr>\n",
       "    <tr>\n",
       "      <th>1241</th>\n",
       "      <td>7128347059</td>\n",
       "      <td>bmw</td>\n",
       "      <td>https://vancouver.craigslist.org/bnc/cto/d/pit...</td>\n",
       "      <td>5500</td>\n",
       "      <td>2006</td>\n",
       "      <td>330i</td>\n",
       "      <td>like new</td>\n",
       "      <td>gas</td>\n",
       "      <td>200.0</td>\n",
       "      <td>clean</td>\n",
       "      <td>automatic</td>\n",
       "      <td>silver</td>\n",
       "    </tr>\n",
       "    <tr>\n",
       "      <th>1337</th>\n",
       "      <td>7128347059</td>\n",
       "      <td>bmw</td>\n",
       "      <td>https://vancouver.craigslist.org/bnc/cto/d/pit...</td>\n",
       "      <td>5500</td>\n",
       "      <td>2006</td>\n",
       "      <td>330i</td>\n",
       "      <td>like new</td>\n",
       "      <td>gas</td>\n",
       "      <td>200.0</td>\n",
       "      <td>clean</td>\n",
       "      <td>automatic</td>\n",
       "      <td>silver</td>\n",
       "    </tr>\n",
       "  </tbody>\n",
       "</table>\n",
       "</div>"
      ],
      "text/plain": [
       "         post_id      brand  \\\n",
       "276   7127105161  chevrolet   \n",
       "1159  7128372979     toyota   \n",
       "1212  7128372979     toyota   \n",
       "1239  7128351236      acura   \n",
       "1241  7128347059        bmw   \n",
       "1337  7128347059        bmw   \n",
       "\n",
       "                                                    url  price  year  \\\n",
       "276   https://vancouver.craigslist.org/bnc/cto/d/new...   1400  2002   \n",
       "1159  https://vancouver.craigslist.org/van/cto/d/sur...   7500  2011   \n",
       "1212  https://vancouver.craigslist.org/van/cto/d/sur...   7500  2011   \n",
       "1239  https://vancouver.craigslist.org/rch/cto/d/ric...   5500  2005   \n",
       "1241  https://vancouver.craigslist.org/bnc/cto/d/pit...   5500  2006   \n",
       "1337  https://vancouver.craigslist.org/bnc/cto/d/pit...   5500  2006   \n",
       "\n",
       "            model  condition fuel  odometer title status transmission  \\\n",
       "276        impala       good  gas     200.0        clean    automatic   \n",
       "1159  2011 sienna  excellent  gas     200.0      rebuilt    automatic   \n",
       "1212  2011 sienna  excellent  gas     200.0      rebuilt    automatic   \n",
       "1239      mdx awd       good  gas     200.0        clean    automatic   \n",
       "1241         330i   like new  gas     200.0        clean    automatic   \n",
       "1337         330i   like new  gas     200.0        clean    automatic   \n",
       "\n",
       "     paint color  \n",
       "276         grey  \n",
       "1159       black  \n",
       "1212       black  \n",
       "1239        grey  \n",
       "1241      silver  \n",
       "1337      silver  "
      ]
     },
     "execution_count": 11,
     "metadata": {},
     "output_type": "execute_result"
    }
   ],
   "source": [
    "data[data['odometer'] == 200.0]\n",
    "# you can see that these vehicles are all older, and are definitely not only 200 kms driven.\n",
    "# 200,000 sounds about right."
   ]
  },
  {
   "cell_type": "code",
   "execution_count": 125,
   "metadata": {
    "scrolled": false
   },
   "outputs": [
    {
     "data": {
      "text/plain": [
       "Text(0.5, 0, 'count')"
      ]
     },
     "execution_count": 125,
     "metadata": {},
     "output_type": "execute_result"
    },
    {
     "data": {
      "image/png": "[encoded data removed]",
      "text/plain": [
       "<Figure size 1800x1152 with 2 Axes>"
      ]
     },
     "metadata": {
      "needs_background": "light"
     },
     "output_type": "display_data"
    }
   ],
   "source": [
    "fig, axes = plt.subplots(1,2,figsize=(25,16))\n",
    "\n",
    "(sns.barplot(y=data.brand.value_counts().index, x=data.brand.value_counts(), orient='h',ax=axes[0])\n",
    " .set_title('Brand by Count',fontsize=25))\n",
    "axes[0].set_ylabel('brand')\n",
    "axes[0].set_xlabel('count')\n",
    "(sns.barplot(y=data.year.value_counts().index, x=data.year.value_counts(), orient='h',ax=axes[1])\n",
    " .set_title('Year by Count',fontsize=25))\n",
    "axes[1].set_ylabel('year')\n",
    "axes[1].set_xlabel('count')"
   ]
  },
  {
   "cell_type": "code",
   "execution_count": 32,
   "metadata": {
    "scrolled": true
   },
   "outputs": [
    {
     "name": "stderr",
     "output_type": "stream",
     "text": [
      "C:\\Users\\justi\\anaconda3\\lib\\site-packages\\ipykernel_launcher.py:2: UserWarning: Boolean Series key will be reindexed to match DataFrame index.\n",
      "  \n"
     ]
    },
    {
     "data": {
      "text/html": [
       "<div>\n",
       "<style scoped>\n",
       "    .dataframe tbody tr th:only-of-type {\n",
       "        vertical-align: middle;\n",
       "    }\n",
       "\n",
       "    .dataframe tbody tr th {\n",
       "        vertical-align: top;\n",
       "    }\n",
       "\n",
       "    .dataframe thead th {\n",
       "        text-align: right;\n",
       "    }\n",
       "</style>\n",
       "<table border=\"1\" class=\"dataframe\">\n",
       "  <thead>\n",
       "    <tr style=\"text-align: right;\">\n",
       "      <th></th>\n",
       "      <th>post_id</th>\n",
       "      <th>brand</th>\n",
       "      <th>url</th>\n",
       "      <th>price</th>\n",
       "      <th>year</th>\n",
       "      <th>model</th>\n",
       "      <th>condition</th>\n",
       "      <th>cylinders</th>\n",
       "      <th>fuel</th>\n",
       "      <th>odometer</th>\n",
       "      <th>title status</th>\n",
       "      <th>transmission</th>\n",
       "      <th>VIN</th>\n",
       "      <th>drive</th>\n",
       "      <th>size</th>\n",
       "      <th>type</th>\n",
       "      <th>paint color</th>\n",
       "    </tr>\n",
       "  </thead>\n",
       "  <tbody>\n",
       "    <tr>\n",
       "      <th>1758</th>\n",
       "      <td>7129764787</td>\n",
       "      <td>mercedes-benz</td>\n",
       "      <td>https://vancouver.craigslist.org/van/ctd/d/bur...</td>\n",
       "      <td>34985</td>\n",
       "      <td>2018</td>\n",
       "      <td>metris cargo van</td>\n",
       "      <td>like new</td>\n",
       "      <td>4 cylinders</td>\n",
       "      <td>gas</td>\n",
       "      <td>0.0</td>\n",
       "      <td>clean</td>\n",
       "      <td>automatic</td>\n",
       "      <td>None</td>\n",
       "      <td>None</td>\n",
       "      <td>None</td>\n",
       "      <td>van</td>\n",
       "      <td>white</td>\n",
       "    </tr>\n",
       "  </tbody>\n",
       "</table>\n",
       "</div>"
      ],
      "text/plain": [
       "         post_id          brand  \\\n",
       "1758  7129764787  mercedes-benz   \n",
       "\n",
       "                                                    url  price  year  \\\n",
       "1758  https://vancouver.craigslist.org/van/ctd/d/bur...  34985  2018   \n",
       "\n",
       "                 model condition    cylinders fuel  odometer title status  \\\n",
       "1758  metris cargo van  like new  4 cylinders  gas       0.0        clean   \n",
       "\n",
       "     transmission   VIN drive  size type paint color  \n",
       "1758    automatic  None  None  None  van       white  "
      ]
     },
     "execution_count": 32,
     "metadata": {},
     "output_type": "execute_result"
    }
   ],
   "source": [
    "# Remove all vehicles with odometer = 0 and year <= 2018\n",
    "data[data['odometer'] == False][data['year'] <= 2018]\n",
    "\n",
    "\n",
    "# data[data['odometer'] < 1000.0][data['year'] <= 2015]\n",
    "\n",
    "# data[data['odometer'] < 1000.0][data['year'] > 2015][data['year'] < 2019]\n",
    "\n",
    "\n",
    "# data[data['odometer'] < 1000.0][data['year'] > 2015][data['title status'] != 'rebuilt']"
   ]
  }
 ],
 "metadata": {
  "kernelspec": {
   "display_name": "Python 3",
   "language": "python",
   "name": "python3"
  },
  "language_info": {
   "codemirror_mode": {
    "name": "ipython",
    "version": 3
   },
   "file_extension": ".py",
   "mimetype": "text/x-python",
   "name": "python",
   "nbconvert_exporter": "python",
   "pygments_lexer": "ipython3",
   "version": "3.7.6"
  }
 },
 "nbformat": 4,
 "nbformat_minor": 4
}
